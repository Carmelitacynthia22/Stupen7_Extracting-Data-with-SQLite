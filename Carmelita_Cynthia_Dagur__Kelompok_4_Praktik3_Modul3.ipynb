{
  "nbformat": 4,
  "nbformat_minor": 0,
  "metadata": {
    "colab": {
      "provenance": []
    },
    "kernelspec": {
      "name": "python3",
      "display_name": "Python 3"
    },
    "language_info": {
      "name": "python"
    }
  },
  "cells": [
    {
      "cell_type": "code",
      "execution_count": null,
      "metadata": {
        "id": "maEBbvBN2qVb"
      },
      "outputs": [],
      "source": [
        "import pandas as pd\n",
        "import sqlite3"
      ]
    },
    {
      "cell_type": "code",
      "source": [
        "import os\n",
        "\n",
        "print(\"Daftar file di /content/:\")\n",
        "print(os.listdir(\"/content/\"))"
      ],
      "metadata": {
        "colab": {
          "base_uri": "https://localhost:8080/"
        },
        "id": "_la-z-Oc25pG",
        "outputId": "084f42a4-abc7-4843-9214-827e10f82c45"
      },
      "execution_count": null,
      "outputs": [
        {
          "output_type": "stream",
          "name": "stdout",
          "text": [
            "Daftar file di /content/:\n",
            "['.config', 'Online Retail Store - customer.xlsx', 'Online Retail Store - sales.xlsx', 'Online Retail Store - product.xlsx', 'sample_data']\n"
          ]
        }
      ]
    },
    {
      "cell_type": "code",
      "source": [
        "files = [\n",
        "    'Online Retail Store - customer.xlsx',\n",
        "    'Online Retail Store - sales.xlsx',\n",
        "    'Online Retail Store - product.xlsx'\n",
        "]\n",
        "\n",
        "for file_path in files:\n",
        "    print(f\"Data Dari {file_path}:\")\n",
        "    df = pd.read_excel(file_path)\n",
        "    print(df.head())\n",
        "    print(\"\\n\" + \"=\"*50 + \"\\n\")\n"
      ],
      "metadata": {
        "colab": {
          "base_uri": "https://localhost:8080/"
        },
        "id": "RFXL94Xh3k9L",
        "outputId": "71c31808-5eb2-406a-ae06-ebc0f2197e0d"
      },
      "execution_count": null,
      "outputs": [
        {
          "output_type": "stream",
          "name": "stdout",
          "text": [
            "Data Dari Online Retail Store - customer.xlsx:\n",
            "   CustomerID     Name  Surname  Loyalty_Discount\n",
            "0   100000001    Simon    Walsh              0.10\n",
            "1   100000003     Liam    Brown              0.09\n",
            "2   100000005  Deirdre  Pullman              0.10\n",
            "3   100000007  Dorothy  Thomson              0.07\n",
            "4   100000010  Dominic     Parr              0.00\n",
            "\n",
            "==================================================\n",
            "\n",
            "Data Dari Online Retail Store - sales.xlsx:\n",
            "   TransactionID Order_Date Arrival_Date  CustomerID Shipping_State  \\\n",
            "0         113252 2003-07-03   2003-07-11   100000007        Alabama   \n",
            "1         113248 2003-11-15   2003-11-21   400000706        Alabama   \n",
            "2         113208 2004-12-03   2004-12-09   100000121        Alabama   \n",
            "3         113138 2004-03-03   2004-03-09   100000091        Alabama   \n",
            "4         113047 2004-12-21   2004-12-22   100000332        Alabama   \n",
            "\n",
            "      Item_id  Quantity  Rating  \n",
            "0  6697166886         2       4  \n",
            "1  1893735141         5       3  \n",
            "2  2363094138         1       5  \n",
            "3  8948840620         9       5  \n",
            "4  1284609276         9       3  \n",
            "\n",
            "==================================================\n",
            "\n",
            "Data Dari Online Retail Store - product.xlsx:\n",
            "      Item_id   Description  Retail_Price\n",
            "0  7645689457         Apron          9.48\n",
            "1  7690258628  Baby Blanket         21.93\n",
            "2  6388591017  Baby Quilt A        100.68\n",
            "3  7502168586  Baby Quilt C         38.06\n",
            "4  8675740287  Baby Quilt B         47.76\n",
            "\n",
            "==================================================\n",
            "\n"
          ]
        }
      ]
    },
    {
      "cell_type": "markdown",
      "source": [
        "**NO 1**"
      ],
      "metadata": {
        "id": "rCzWdfxK8p9W"
      }
    },
    {
      "cell_type": "code",
      "source": [
        "sales = pd.read_excel('Online Retail Store - sales.xlsx')\n",
        "customer = pd.read_excel('Online Retail Store - customer.xlsx')\n",
        "product = pd.read_excel('Online Retail Store - product.xlsx')"
      ],
      "metadata": {
        "id": "BKk-ArLQ65B9"
      },
      "execution_count": null,
      "outputs": []
    },
    {
      "cell_type": "code",
      "source": [
        "merged_data = pd.merge(sales, product, on='Item_id')\n",
        "merged_data['total_sales'] = merged_data['Quantity'] * merged_data['Retail_Price']\n",
        "merged_data['Order_Date'] = pd.to_datetime(merged_data['Order_Date'], errors='coerce')\n",
        "merged_data['year'] = merged_data['Order_Date'].dt.year\n",
        "merged_data['month'] = merged_data['Order_Date'].dt.month\n",
        "\n",
        "monthly_sales = merged_data.groupby(['year', 'month'])['total_sales'].sum().reset_index()\n",
        "\n",
        "monthly_sales['prev_month_sales'] = monthly_sales['total_sales'].shift(1)\n",
        "monthly_sales['sales_growth'] = (\n",
        "    (monthly_sales['total_sales'] - monthly_sales['prev_month_sales']) /\n",
        "    monthly_sales['prev_month_sales']\n",
        ") * 100\n",
        "\n",
        "monthly_sales['periode'] = monthly_sales['year'].astype(str) + '/' + monthly_sales['month'].astype(str).str.zfill(2)\n",
        "\n",
        "\n",
        "result = monthly_sales[['periode', 'total_sales', 'prev_month_sales', 'sales_growth']]\n",
        "print(\"Persentase Growth pada Total Sales per Bulan:\")\n",
        "print(result)\n"
      ],
      "metadata": {
        "colab": {
          "base_uri": "https://localhost:8080/"
        },
        "id": "cgFK64Ha7JcK",
        "outputId": "b1315383-1b4d-4d34-e027-afabfd95f94b"
      },
      "execution_count": null,
      "outputs": [
        {
          "output_type": "stream",
          "name": "stdout",
          "text": [
            "Persentase Growth pada Total Sales per Bulan:\n",
            "    periode  total_sales  prev_month_sales  sales_growth\n",
            "0   2003/01      9307.88               NaN           NaN\n",
            "1   2003/02     13228.38           9307.88     42.120225\n",
            "2   2003/03     21297.68          13228.38     60.999911\n",
            "3   2003/04      9657.69          21297.68    -54.653793\n",
            "4   2003/05     23963.28           9657.69    148.126415\n",
            "5   2003/06     13674.98          23963.28    -42.933605\n",
            "6   2003/07     24012.46          13674.98     75.594114\n",
            "7   2003/08     12909.50          24012.46    -46.238328\n",
            "8   2003/09     25439.48          12909.50     97.060150\n",
            "9   2003/10     45836.16          25439.48     80.177268\n",
            "10  2003/11    106138.17          45836.16    131.559908\n",
            "11  2003/12     37527.78         106138.17    -64.642522\n",
            "12  2004/01     21986.27          37527.78    -41.413348\n",
            "13  2004/02     22263.75          21986.27      1.262060\n",
            "14  2004/03     25730.24          22263.75     15.570108\n",
            "15  2004/04     17552.02          25730.24    -31.784468\n",
            "16  2004/05     22813.48          17552.02     29.976379\n",
            "17  2004/06     22008.05          22813.48     -3.530500\n",
            "18  2004/07     28425.88          22008.05     29.161284\n",
            "19  2004/08     35623.48          28425.88     25.320588\n",
            "20  2004/09     38784.83          35623.48      8.874344\n",
            "21  2004/10     53633.93          38784.83     38.285845\n",
            "22  2004/11     86080.56          53633.93     60.496462\n",
            "23  2004/12     42104.24          86080.56    -51.087400\n",
            "24  2005/01     30014.18          42104.24    -28.714590\n",
            "25  2005/02     33538.61          30014.18     11.742550\n",
            "26  2005/03     28155.73          33538.61    -16.049801\n",
            "27  2005/04     14243.60          28155.73    -49.411363\n",
            "28  2005/05     30957.55          14243.60    117.343579\n",
            "29  2005/06      9141.28          30957.55    -70.471565\n"
          ]
        }
      ]
    },
    {
      "cell_type": "markdown",
      "source": [
        "**NO 2**"
      ],
      "metadata": {
        "id": "dkPQd3lz9Rrg"
      }
    },
    {
      "cell_type": "code",
      "source": [
        "merged_data = pd.merge(sales, product, on='Item_id')\n",
        "merged_data = pd.merge(merged_data, customer, on='CustomerID')\n",
        "merged_data['spending'] = merged_data['Quantity'] * merged_data['Retail_Price']\n",
        "\n",
        "filtered_data = merged_data[\n",
        "    ~merged_data['Shipping_State'].isin(['Wyoming', 'Idaho', 'Alaska'])\n",
        "]\n",
        "\n",
        "customer_spending = filtered_data.groupby('CustomerID').agg(\n",
        "    total_spending=('spending', 'sum'),\n",
        "    total_quantity=('Quantity', 'sum')\n",
        ").reset_index()\n",
        "\n",
        "def categorize_spending(spending):\n",
        "    if spending > 500:\n",
        "        return 'High_spender'\n",
        "    elif 300 <= spending <= 500:\n",
        "        return 'Mid_spender'\n",
        "    else:\n",
        "        return 'Low_spender'\n",
        "\n",
        "customer_spending['cust_cat'] = customer_spending['total_spending'].apply(categorize_spending)\n",
        "\n",
        "summary = customer_spending.groupby('cust_cat').agg(\n",
        "    total_user=('CustomerID', 'count'),\n",
        "    avg_quantity=('total_quantity', 'mean'),\n",
        "    avg_spending=('total_spending', 'mean')\n",
        ").reset_index()\n",
        "\n",
        "print(\"Kategori Pelanggan Berdasarkan Spending:\")\n",
        "print(summary)\n"
      ],
      "metadata": {
        "colab": {
          "base_uri": "https://localhost:8080/"
        },
        "id": "cnlH6pMF8xDa",
        "outputId": "ba80fdde-6993-4617-ef01-c4311ef7a739"
      },
      "execution_count": null,
      "outputs": [
        {
          "output_type": "stream",
          "name": "stdout",
          "text": [
            "Kategori Pelanggan Berdasarkan Spending:\n",
            "       cust_cat  total_user  avg_quantity  avg_spending\n",
            "0  High_spender         636     20.691824   1266.781698\n",
            "1   Low_spender         148      5.425676    159.768649\n",
            "2   Mid_spender         106      9.320755    404.678679\n"
          ]
        }
      ]
    },
    {
      "cell_type": "markdown",
      "source": [
        "**NO 3**"
      ],
      "metadata": {
        "id": "8aZGf8z_98of"
      }
    },
    {
      "cell_type": "code",
      "source": [
        "merged_data = pd.merge(sales, product, on='Item_id')\n",
        "merged_data['Order_Date'] = pd.to_datetime(merged_data['Order_Date'], errors='coerce')\n",
        "\n",
        "data_2004 = merged_data[merged_data['Order_Date'].dt.year == 2004]\n",
        "product_ratings = data_2004.groupby('Description').agg(\n",
        "    avg_rating=('Rating', 'mean')\n",
        ").reset_index()\n",
        "\n",
        "product_ratings['Ranking'] = product_ratings['avg_rating'].rank(ascending=False, method='first')\n",
        "\n",
        "top_5 = product_ratings.nsmallest(5, 'Ranking')\n",
        "bottom_5 = product_ratings.nlargest(5, 'Ranking')\n",
        "\n",
        "result = pd.concat([top_5, bottom_5]).sort_values(by='Ranking')\n",
        "\n",
        "result['Year'] = 2004\n",
        "\n",
        "print(\"Ranking Produk pada Tahun 2004:\")\n",
        "print(result[['Year', 'Description', 'avg_rating', 'Ranking']])\n"
      ],
      "metadata": {
        "colab": {
          "base_uri": "https://localhost:8080/"
        },
        "id": "6vyZNle_9-9H",
        "outputId": "2001ad41-ffd1-4519-f385-14403e4b7a6a"
      },
      "execution_count": null,
      "outputs": [
        {
          "output_type": "stream",
          "name": "stdout",
          "text": [
            "Ranking Produk pada Tahun 2004:\n",
            "     Year          Description  avg_rating  Ranking\n",
            "31   2004         Crib Sheet A    4.600000      1.0\n",
            "7    2004           Bath Mat C    4.500000      2.0\n",
            "76   2004               Sheets    4.500000      3.0\n",
            "122  2004          Washcloth A    4.444444      4.0\n",
            "49   2004         Hand Towel A    4.428571      5.0\n",
            "36   2004              Dress A    3.500000    121.0\n",
            "100  2004  Suit & 2 pc Dress C    3.500000    122.0\n",
            "120  2004            Valance B    3.500000    123.0\n",
            "77   2004              Shirt A    3.444444    124.0\n",
            "105  2004            Sweater C    3.444444    125.0\n"
          ]
        }
      ]
    }
  ]
}